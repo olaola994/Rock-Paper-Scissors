{
 "cells": [
  {
   "cell_type": "markdown",
   "id": "5f2a29a7-0637-487a-9168-a047723ece3c",
   "metadata": {},
   "source": [
    "# Rock Paper Scissors game"
   ]
  },
  {
   "cell_type": "code",
   "execution_count": 61,
   "id": "da37cb57-6571-4fdb-97b4-bf4917444944",
   "metadata": {},
   "outputs": [],
   "source": [
    "import pandas as pd\n",
    "import numpy as np\n",
    "import matplotlib.pyplot as plt"
   ]
  },
  {
   "cell_type": "markdown",
   "id": "1b046c6c-50e3-4c11-be9a-b59a372e7993",
   "metadata": {},
   "source": [
    "## Determining the probability of a computer game"
   ]
  },
  {
   "cell_type": "code",
   "execution_count": 65,
   "id": "8a2549d8-fa83-4ea1-b5d9-0c7978dab02f",
   "metadata": {},
   "outputs": [],
   "source": [
    "probability = np.array([0.2, 0.3, 0.5])\n",
    "choices = np.array(['P', 'K', 'N'])\n",
    "\n",
    "choices_dict = { 'P': 0, 'K': 1, 'N': 2 }\n",
    "random_set_to_learn = np.random.choice(choices, size=1000, p=probability)"
   ]
  },
  {
   "cell_type": "markdown",
   "id": "f5c6e0d9-d2c6-4e59-b606-9da5fb67a2bf",
   "metadata": {},
   "source": [
    "## Teaching model how a computer plays based on a Markov chain"
   ]
  },
  {
   "cell_type": "code",
   "execution_count": 66,
   "id": "2ecb781d-d555-488e-a72c-36a1453096bc",
   "metadata": {},
   "outputs": [
    {
     "name": "stdout",
     "output_type": "stream",
     "text": [
      "Matrix = [[ 47.  60.  92.]\n",
      " [ 58.  84. 159.]\n",
      " [ 93. 157. 249.]]\n",
      "Suma wierszy = [199. 301. 499.]\n",
      "Matrix = [[0.2361809  0.30150754 0.46231156]\n",
      " [0.19269103 0.27906977 0.5282392 ]\n",
      " [0.18637275 0.31462926 0.498998  ]]\n"
     ]
    }
   ],
   "source": [
    "matrix = np.zeros((3, 3))\n",
    "state = 0\n",
    "\n",
    "for i in range(len(random_set_to_learn) - 1):\n",
    "    current = random_set_to_learn[i]\n",
    "    next = random_set_to_learn[i+1]\n",
    "    x = choices_dict.get(current)\n",
    "    y = choices_dict.get(next)\n",
    "    matrix[x][y] += 1\n",
    "    \n",
    "print(\"Matrix =\", matrix)\n",
    "\n",
    "# normalizacja macierzy\n",
    "row_sums = matrix.sum(axis=1)\n",
    "print(\"Suma wierszy =\", row_sums)\n",
    "\n",
    "for i in range(len(matrix)):\n",
    "    if row_sums[i] != 0:\n",
    "        matrix[i] /= row_sums[i]\n",
    "    else:\n",
    "        matrix[i] = np.array([1/3, 1/3, 1/3])\n",
    "        \n",
    "print(\"Matrix =\", matrix)        \n"
   ]
  },
  {
   "cell_type": "markdown",
   "id": "7af86a01-32ef-46a6-be3c-8054269da747",
   "metadata": {},
   "source": [
    "## Markov matrix probability testing"
   ]
  },
  {
   "cell_type": "code",
   "execution_count": 78,
   "id": "826f62da-40f4-404e-b928-6d5af7eb6846",
   "metadata": {},
   "outputs": [
    {
     "name": "stdout",
     "output_type": "stream",
     "text": [
      "Komputer zagrał: N, pierwszy ruch, mój ruch: N, kasa: 1\n",
      "Komputer zagrał: P, przewidywany ruch: N, rzeczywisty ruch: P, mój ruch: K, kasa: 0\n",
      "Komputer zagrał: P, przewidywany ruch: P, rzeczywisty ruch: N, mój ruch: N, kasa: 0\n",
      "Komputer zagrał: N, przewidywany ruch: P, rzeczywisty ruch: P, mój ruch: N, kasa: 1\n",
      "Komputer zagrał: P, przewidywany ruch: N, rzeczywisty ruch: K, mój ruch: K, kasa: 1\n",
      "Komputer zagrał: K, przewidywany ruch: N, rzeczywisty ruch: N, mój ruch: K, kasa: 2\n",
      "Komputer zagrał: N, przewidywany ruch: P, rzeczywisty ruch: K, mój ruch: N, kasa: 1\n",
      "Komputer zagrał: K, przewidywany ruch: N, rzeczywisty ruch: K, mój ruch: K, kasa: 1\n",
      "Komputer zagrał: K, przewidywany ruch: N, rzeczywisty ruch: N, mój ruch: K, kasa: 2\n",
      "Komputer zagrał: N, przewidywany ruch: P, rzeczywisty ruch: N, mój ruch: N, kasa: 2\n",
      "Komputer zagrał: N, przewidywany ruch: N, rzeczywisty ruch: P, mój ruch: K, kasa: 1\n",
      "Komputer zagrał: P, przewidywany ruch: K, rzeczywisty ruch: K, mój ruch: P, kasa: 2\n",
      "Komputer zagrał: K, przewidywany ruch: N, rzeczywisty ruch: N, mój ruch: K, kasa: 3\n",
      "Komputer zagrał: N, przewidywany ruch: K, rzeczywisty ruch: N, mój ruch: P, kasa: 2\n",
      "Komputer zagrał: N, przewidywany ruch: P, rzeczywisty ruch: N, mój ruch: N, kasa: 2\n",
      "Komputer zagrał: N, przewidywany ruch: N, rzeczywisty ruch: K, mój ruch: K, kasa: 2\n",
      "Komputer zagrał: K, przewidywany ruch: N, rzeczywisty ruch: K, mój ruch: K, kasa: 2\n",
      "Komputer zagrał: K, przewidywany ruch: N, rzeczywisty ruch: K, mój ruch: K, kasa: 2\n",
      "Komputer zagrał: K, przewidywany ruch: K, rzeczywisty ruch: P, mój ruch: P, kasa: 2\n",
      "Komputer zagrał: P, przewidywany ruch: K, rzeczywisty ruch: K, mój ruch: P, kasa: 3\n",
      "Komputer zagrał: K, przewidywany ruch: K, rzeczywisty ruch: K, mój ruch: P, kasa: 4\n",
      "Komputer zagrał: K, przewidywany ruch: K, rzeczywisty ruch: N, mój ruch: P, kasa: 3\n",
      "Komputer zagrał: N, przewidywany ruch: K, rzeczywisty ruch: P, mój ruch: P, kasa: 3\n",
      "Komputer zagrał: P, przewidywany ruch: K, rzeczywisty ruch: K, mój ruch: P, kasa: 4\n",
      "Komputer zagrał: K, przewidywany ruch: K, rzeczywisty ruch: N, mój ruch: P, kasa: 3\n",
      "Komputer zagrał: N, przewidywany ruch: P, rzeczywisty ruch: K, mój ruch: N, kasa: 2\n",
      "Komputer zagrał: K, przewidywany ruch: N, rzeczywisty ruch: N, mój ruch: K, kasa: 3\n",
      "Komputer zagrał: N, przewidywany ruch: K, rzeczywisty ruch: N, mój ruch: P, kasa: 2\n",
      "Komputer zagrał: N, przewidywany ruch: N, rzeczywisty ruch: N, mój ruch: K, kasa: 3\n",
      "Komputer zagrał: N, przewidywany ruch: N, rzeczywisty ruch: N, mój ruch: K, kasa: 4\n",
      "Komputer zagrał: N, przewidywany ruch: N, rzeczywisty ruch: N, mój ruch: K, kasa: 5\n",
      "Komputer zagrał: N, przewidywany ruch: N, rzeczywisty ruch: N, mój ruch: K, kasa: 6\n",
      "Komputer zagrał: N, przewidywany ruch: N, rzeczywisty ruch: N, mój ruch: K, kasa: 7\n",
      "Komputer zagrał: N, przewidywany ruch: N, rzeczywisty ruch: K, mój ruch: K, kasa: 7\n",
      "Komputer zagrał: K, przewidywany ruch: N, rzeczywisty ruch: N, mój ruch: K, kasa: 8\n",
      "Komputer zagrał: N, przewidywany ruch: K, rzeczywisty ruch: K, mój ruch: P, kasa: 9\n",
      "Komputer zagrał: K, przewidywany ruch: K, rzeczywisty ruch: P, mój ruch: P, kasa: 9\n",
      "Komputer zagrał: P, przewidywany ruch: K, rzeczywisty ruch: N, mój ruch: P, kasa: 8\n",
      "Komputer zagrał: N, przewidywany ruch: K, rzeczywisty ruch: P, mój ruch: P, kasa: 8\n",
      "Komputer zagrał: P, przewidywany ruch: K, rzeczywisty ruch: N, mój ruch: P, kasa: 7\n",
      "Komputer zagrał: N, przewidywany ruch: K, rzeczywisty ruch: P, mój ruch: P, kasa: 7\n",
      "Komputer zagrał: P, przewidywany ruch: N, rzeczywisty ruch: P, mój ruch: K, kasa: 6\n",
      "Komputer zagrał: P, przewidywany ruch: K, rzeczywisty ruch: K, mój ruch: P, kasa: 7\n",
      "Komputer zagrał: K, przewidywany ruch: N, rzeczywisty ruch: P, mój ruch: K, kasa: 6\n",
      "Komputer zagrał: P, przewidywany ruch: K, rzeczywisty ruch: N, mój ruch: P, kasa: 5\n",
      "Komputer zagrał: N, przewidywany ruch: K, rzeczywisty ruch: K, mój ruch: P, kasa: 6\n",
      "Komputer zagrał: K, przewidywany ruch: P, rzeczywisty ruch: N, mój ruch: N, kasa: 6\n",
      "Komputer zagrał: N, przewidywany ruch: N, rzeczywisty ruch: K, mój ruch: K, kasa: 6\n",
      "Komputer zagrał: K, przewidywany ruch: N, rzeczywisty ruch: N, mój ruch: K, kasa: 7\n",
      "Komputer zagrał: N, przewidywany ruch: K, rzeczywisty ruch: N, mój ruch: P, kasa: 6\n",
      "Komputer zagrał: N, przewidywany ruch: K, rzeczywisty ruch: N, mój ruch: P, kasa: 5\n",
      "Komputer zagrał: N, przewidywany ruch: N, rzeczywisty ruch: K, mój ruch: K, kasa: 5\n",
      "Komputer zagrał: K, przewidywany ruch: N, rzeczywisty ruch: N, mój ruch: K, kasa: 6\n",
      "Komputer zagrał: N, przewidywany ruch: N, rzeczywisty ruch: N, mój ruch: K, kasa: 7\n",
      "Komputer zagrał: N, przewidywany ruch: K, rzeczywisty ruch: K, mój ruch: P, kasa: 8\n",
      "Komputer zagrał: K, przewidywany ruch: N, rzeczywisty ruch: K, mój ruch: K, kasa: 8\n",
      "Komputer zagrał: K, przewidywany ruch: N, rzeczywisty ruch: N, mój ruch: K, kasa: 9\n",
      "Komputer zagrał: N, przewidywany ruch: K, rzeczywisty ruch: K, mój ruch: P, kasa: 10\n",
      "Komputer zagrał: K, przewidywany ruch: K, rzeczywisty ruch: K, mój ruch: P, kasa: 11\n",
      "Komputer zagrał: K, przewidywany ruch: N, rzeczywisty ruch: K, mój ruch: K, kasa: 11\n",
      "Komputer zagrał: K, przewidywany ruch: K, rzeczywisty ruch: K, mój ruch: P, kasa: 12\n",
      "Komputer zagrał: K, przewidywany ruch: K, rzeczywisty ruch: K, mój ruch: P, kasa: 13\n",
      "Komputer zagrał: K, przewidywany ruch: K, rzeczywisty ruch: K, mój ruch: P, kasa: 14\n",
      "Komputer zagrał: K, przewidywany ruch: K, rzeczywisty ruch: K, mój ruch: P, kasa: 15\n",
      "Komputer zagrał: K, przewidywany ruch: K, rzeczywisty ruch: N, mój ruch: P, kasa: 14\n",
      "Komputer zagrał: N, przewidywany ruch: K, rzeczywisty ruch: K, mój ruch: P, kasa: 15\n",
      "Komputer zagrał: K, przewidywany ruch: K, rzeczywisty ruch: N, mój ruch: P, kasa: 14\n",
      "Komputer zagrał: N, przewidywany ruch: K, rzeczywisty ruch: N, mój ruch: P, kasa: 13\n",
      "Komputer zagrał: N, przewidywany ruch: N, rzeczywisty ruch: N, mój ruch: K, kasa: 14\n",
      "Komputer zagrał: N, przewidywany ruch: K, rzeczywisty ruch: N, mój ruch: P, kasa: 13\n",
      "Komputer zagrał: N, przewidywany ruch: N, rzeczywisty ruch: N, mój ruch: K, kasa: 14\n",
      "Komputer zagrał: N, przewidywany ruch: N, rzeczywisty ruch: N, mój ruch: K, kasa: 15\n",
      "Komputer zagrał: N, przewidywany ruch: N, rzeczywisty ruch: N, mój ruch: K, kasa: 16\n",
      "Komputer zagrał: N, przewidywany ruch: N, rzeczywisty ruch: N, mój ruch: K, kasa: 17\n",
      "Komputer zagrał: N, przewidywany ruch: N, rzeczywisty ruch: K, mój ruch: K, kasa: 17\n",
      "Komputer zagrał: K, przewidywany ruch: N, rzeczywisty ruch: K, mój ruch: K, kasa: 17\n",
      "Komputer zagrał: K, przewidywany ruch: K, rzeczywisty ruch: N, mój ruch: P, kasa: 16\n",
      "Komputer zagrał: N, przewidywany ruch: K, rzeczywisty ruch: K, mój ruch: P, kasa: 17\n",
      "Komputer zagrał: K, przewidywany ruch: N, rzeczywisty ruch: P, mój ruch: K, kasa: 16\n",
      "Komputer zagrał: P, przewidywany ruch: K, rzeczywisty ruch: N, mój ruch: P, kasa: 15\n",
      "Komputer zagrał: N, przewidywany ruch: K, rzeczywisty ruch: K, mój ruch: P, kasa: 16\n",
      "Komputer zagrał: K, przewidywany ruch: P, rzeczywisty ruch: N, mój ruch: N, kasa: 16\n",
      "Komputer zagrał: N, przewidywany ruch: K, rzeczywisty ruch: N, mój ruch: P, kasa: 15\n",
      "Komputer zagrał: N, przewidywany ruch: K, rzeczywisty ruch: K, mój ruch: P, kasa: 16\n",
      "Komputer zagrał: K, przewidywany ruch: P, rzeczywisty ruch: K, mój ruch: N, kasa: 15\n",
      "Komputer zagrał: K, przewidywany ruch: N, rzeczywisty ruch: N, mój ruch: K, kasa: 16\n",
      "Komputer zagrał: N, przewidywany ruch: N, rzeczywisty ruch: N, mój ruch: K, kasa: 17\n",
      "Komputer zagrał: N, przewidywany ruch: N, rzeczywisty ruch: K, mój ruch: K, kasa: 17\n",
      "Komputer zagrał: K, przewidywany ruch: N, rzeczywisty ruch: N, mój ruch: K, kasa: 18\n",
      "Komputer zagrał: N, przewidywany ruch: K, rzeczywisty ruch: K, mój ruch: P, kasa: 19\n",
      "Komputer zagrał: K, przewidywany ruch: N, rzeczywisty ruch: N, mój ruch: K, kasa: 20\n",
      "Komputer zagrał: N, przewidywany ruch: N, rzeczywisty ruch: N, mój ruch: K, kasa: 21\n",
      "Komputer zagrał: N, przewidywany ruch: N, rzeczywisty ruch: P, mój ruch: K, kasa: 20\n",
      "Komputer zagrał: P, przewidywany ruch: N, rzeczywisty ruch: K, mój ruch: K, kasa: 20\n",
      "Komputer zagrał: K, przewidywany ruch: N, rzeczywisty ruch: N, mój ruch: K, kasa: 21\n",
      "Komputer zagrał: N, przewidywany ruch: K, rzeczywisty ruch: N, mój ruch: P, kasa: 20\n",
      "Komputer zagrał: N, przewidywany ruch: K, rzeczywisty ruch: K, mój ruch: P, kasa: 21\n",
      "Komputer zagrał: K, przewidywany ruch: N, rzeczywisty ruch: K, mój ruch: K, kasa: 21\n",
      "Komputer zagrał: K, przewidywany ruch: K, rzeczywisty ruch: N, mój ruch: P, kasa: 20\n"
     ]
    }
   ],
   "source": [
    "random_set_to_test = np.random.choice(choices, size=100, p=probability)\n",
    "\n",
    "money_state = 0\n",
    "money = [money_state]\n",
    "\n",
    "for i in range(len(random_set_to_test) - 1):\n",
    "    current = random_set_to_test[i]\n",
    "    x = choices_dict[current] \n",
    "\n",
    "    predicted_move = None\n",
    "\n",
    "    if i == 0: \n",
    "        my_choice = np.random.choice(choices)\n",
    "    else:\n",
    "        if np.sum(matrix[x]) > 0:\n",
    "            predicted_index = np.random.choice([0, 1, 2], p=matrix[x]) \n",
    "        else:\n",
    "            predicted_index = np.random.choice([0, 1, 2])\n",
    "        \n",
    "        predicted_move = choices[predicted_index]\n",
    "        \n",
    "        # Wybór ruchu, który pokona komputer\n",
    "        if predicted_move == 'P':\n",
    "            my_choice = 'N'\n",
    "        elif predicted_move == 'N':\n",
    "            my_choice = 'K'\n",
    "        elif predicted_move == 'K':\n",
    "            my_choice = 'P'\n",
    "        \n",
    "    next_move = random_set_to_test[i+1]  # Rzeczywisty następny ruch komputera\n",
    "    y = choices_dict[next_move]  # Indeks liczbowy dla macierzy\n",
    "\n",
    "    # Aktualizacja macierzy przejść i poprawiona normalizacja\n",
    "    matrix[x][y] += 1\n",
    "    matrix[x] = matrix[x] / np.sum(matrix[x])\n",
    "\n",
    "    # Aktualizacja kasy\n",
    "    if (my_choice == 'P' and next_move == 'K') or (my_choice == 'K' and next_move == 'N') or (my_choice == 'N' and next_move == 'P'):\n",
    "        money_state += 1  # Wygrana\n",
    "    elif my_choice == next_move:\n",
    "        money_state += 0  # Remis\n",
    "    else:\n",
    "        money_state -= 1  # Przegrana\n",
    "\n",
    "    money.append(money_state)\n",
    "\n",
    "    if i == 0:\n",
    "        print(f\"Komputer zagrał: {current}, pierwszy ruch, mój ruch: {my_choice}, kasa: {money_state}\")\n",
    "    else:\n",
    "        print(f\"Komputer zagrał: {current}, przewidywany ruch: {predicted_move}, rzeczywisty ruch: {next_move}, mój ruch: {my_choice}, kasa: {money_state}\")\n",
    "\n",
    "\n",
    "\n",
    "        "
   ]
  },
  {
   "cell_type": "markdown",
   "id": "ec708bfb-2894-4c4d-bae2-33b7226cf557",
   "metadata": {},
   "source": [
    "## Line graph of the change in the cash balance during the game"
   ]
  },
  {
   "cell_type": "code",
   "execution_count": 79,
   "id": "e3df7786-aa83-44a3-bc00-2da115246bd9",
   "metadata": {},
   "outputs": [
    {
     "data": {
      "image/png": "[encoded data removed]",
      "text/plain": [
       "<Figure size 640x480 with 1 Axes>"
      ]
     },
     "metadata": {},
     "output_type": "display_data"
    }
   ],
   "source": [
    "plt.plot(money, linestyle='-')\n",
    "plt.xlabel(\"Liczba gier\")\n",
    "plt.ylabel(\"Stan kasy\")\n",
    "plt.title(\"Zmiana stanu kasy w trakcie gry\")\n",
    "plt.grid(True)\n",
    "plt.show()"
   ]
  },
  {
   "cell_type": "code",
   "execution_count": null,
   "id": "43f62f22-de66-4f24-bff4-1869f813b3ab",
   "metadata": {},
   "outputs": [],
   "source": []
  }
 ],
 "metadata": {
  "kernelspec": {
   "display_name": "Python 3 (ipykernel)",
   "language": "python",
   "name": "python3"
  },
  "language_info": {
   "codemirror_mode": {
    "name": "ipython",
    "version": 3
   },
   "file_extension": ".py",
   "mimetype": "text/x-python",
   "name": "python",
   "nbconvert_exporter": "python",
   "pygments_lexer": "ipython3",
   "version": "3.11.8"
  }
 },
 "nbformat": 4,
 "nbformat_minor": 5
}
